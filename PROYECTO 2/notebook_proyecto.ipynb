{
 "cells": [
  {
   "cell_type": "code",
   "execution_count": 1,
   "metadata": {},
   "outputs": [],
   "source": [
    "import pandas as pd\n",
    "import numpy as np\n",
    "from faker import Faker\n",
    "import random\n",
    "import datetime\n",
    "import boto3\n",
    "import psycopg2\n",
    "import configparser"
   ]
  },
  {
   "cell_type": "code",
   "execution_count": null,
   "metadata": {},
   "outputs": [],
   "source": []
  },
  {
   "attachments": {},
   "cell_type": "markdown",
   "metadata": {},
   "source": [
    "#### Iniciación de Variables"
   ]
  },
  {
   "cell_type": "code",
   "execution_count": 2,
   "metadata": {},
   "outputs": [],
   "source": [
    "cantidad_clientes = np.random.randint(500, 1000) #cantidad de clientes a crear\n",
    "rdsIdentifier = 'db_proyecto' #nombre de la instancia\n",
    "fake = Faker() #inicialización para creación de data random"
   ]
  },
  {
   "attachments": {},
   "cell_type": "markdown",
   "metadata": {},
   "source": [
    "#### Cargamos archivo de configuraciones"
   ]
  },
  {
   "cell_type": "code",
   "execution_count": 3,
   "metadata": {},
   "outputs": [
    {
     "data": {
      "text/plain": [
       "['escec.cfg']"
      ]
     },
     "execution_count": 3,
     "metadata": {},
     "output_type": "execute_result"
    }
   ],
   "source": [
    "config = configparser.ConfigParser()\n",
    "config.read('escec.cfg')"
   ]
  },
  {
   "attachments": {},
   "cell_type": "markdown",
   "metadata": {},
   "source": [
    "### Creamos Instancia de RDS "
   ]
  },
  {
   "cell_type": "code",
   "execution_count": 4,
   "metadata": {},
   "outputs": [],
   "source": [
    "aws_conn = boto3.client('rds', aws_access_key_id=config.get('IAM', 'ACCESS_KEY'),\n",
    "                    aws_secret_access_key=config.get('IAM', 'SECRET_ACCESS_KEY'),\n",
    "                    region_name='us-east-1')"
   ]
  },
  {
   "attachments": {},
   "cell_type": "markdown",
   "metadata": {},
   "source": [
    "#### Verificamos Instancias de RDS disponibles"
   ]
  },
  {
   "cell_type": "code",
   "execution_count": 5,
   "metadata": {},
   "outputs": [
    {
     "name": "stdout",
     "output_type": "stream",
     "text": [
      "DBInstanceIds ['banco-db-v1']\n"
     ]
    }
   ],
   "source": [
    "rdsInstanceIds = []\n",
    "\n",
    "response = aws_conn.describe_db_instances()\n",
    "for resp in response['DBInstances']:\n",
    "    rdsInstanceIds.append(resp['DBInstanceIdentifier'])\n",
    "    db_instance_status = resp['DBInstanceStatus']\n",
    "\n",
    "print(f\"DBInstanceIds {rdsInstanceIds}\")"
   ]
  },
  {
   "attachments": {},
   "cell_type": "markdown",
   "metadata": {},
   "source": [
    "#### Creación de Servicio RDS"
   ]
  },
  {
   "cell_type": "code",
   "execution_count": 6,
   "metadata": {},
   "outputs": [
    {
     "ename": "ClientError",
     "evalue": "An error occurred (InvalidParameterValue) when calling the CreateDBInstance operation: The parameter DBInstanceIdentifier is not a valid identifier. Identifiers must begin with a letter; must contain only ASCII letters, digits, and hyphens; and must not end with a hyphen or contain two consecutive hyphens.",
     "output_type": "error",
     "traceback": [
      "\u001b[1;31m---------------------------------------------------------------------------\u001b[0m",
      "\u001b[1;31mClientError\u001b[0m                               Traceback (most recent call last)",
      "Cell \u001b[1;32mIn[6], line 2\u001b[0m\n\u001b[0;32m      1\u001b[0m \u001b[39mtry\u001b[39;00m:\n\u001b[1;32m----> 2\u001b[0m     response \u001b[39m=\u001b[39m aws_conn\u001b[39m.\u001b[39;49mcreate_db_instance(\n\u001b[0;32m      3\u001b[0m             AllocatedStorage\u001b[39m=\u001b[39;49m\u001b[39m10\u001b[39;49m,\n\u001b[0;32m      4\u001b[0m             DBName\u001b[39m=\u001b[39;49mconfig\u001b[39m.\u001b[39;49mget(\u001b[39m'\u001b[39;49m\u001b[39mRDS\u001b[39;49m\u001b[39m'\u001b[39;49m, \u001b[39m'\u001b[39;49m\u001b[39mDB_NAME\u001b[39;49m\u001b[39m'\u001b[39;49m),\n\u001b[0;32m      5\u001b[0m             DBInstanceIdentifier\u001b[39m=\u001b[39;49mrdsIdentifier,\n\u001b[0;32m      6\u001b[0m             DBInstanceClass\u001b[39m=\u001b[39;49m\u001b[39m\"\u001b[39;49m\u001b[39mdb.t3.micro\u001b[39;49m\u001b[39m\"\u001b[39;49m,\n\u001b[0;32m      7\u001b[0m             Engine\u001b[39m=\u001b[39;49m\u001b[39m\"\u001b[39;49m\u001b[39mpostgres\u001b[39;49m\u001b[39m\"\u001b[39;49m,\n\u001b[0;32m      8\u001b[0m             MasterUsername\u001b[39m=\u001b[39;49mconfig\u001b[39m.\u001b[39;49mget(\u001b[39m'\u001b[39;49m\u001b[39mRDS\u001b[39;49m\u001b[39m'\u001b[39;49m, \u001b[39m'\u001b[39;49m\u001b[39mDB_USER\u001b[39;49m\u001b[39m'\u001b[39;49m),\n\u001b[0;32m      9\u001b[0m             MasterUserPassword\u001b[39m=\u001b[39;49mconfig\u001b[39m.\u001b[39;49mget(\u001b[39m'\u001b[39;49m\u001b[39mRDS\u001b[39;49m\u001b[39m'\u001b[39;49m, \u001b[39m'\u001b[39;49m\u001b[39mDB_PASSWORD\u001b[39;49m\u001b[39m'\u001b[39;49m),\n\u001b[0;32m     10\u001b[0m             Port\u001b[39m=\u001b[39;49m\u001b[39mint\u001b[39;49m(config\u001b[39m.\u001b[39;49mget(\u001b[39m'\u001b[39;49m\u001b[39mRDS\u001b[39;49m\u001b[39m'\u001b[39;49m, \u001b[39m'\u001b[39;49m\u001b[39mDB_PORT\u001b[39;49m\u001b[39m'\u001b[39;49m)),\n\u001b[0;32m     11\u001b[0m             VpcSecurityGroupIds\u001b[39m=\u001b[39;49m[config\u001b[39m.\u001b[39;49mget(\u001b[39m'\u001b[39;49m\u001b[39mVPC\u001b[39;49m\u001b[39m'\u001b[39;49m, \u001b[39m'\u001b[39;49m\u001b[39mSECURITY_GROUP\u001b[39;49m\u001b[39m'\u001b[39;49m)],\n\u001b[0;32m     12\u001b[0m             PubliclyAccessible\u001b[39m=\u001b[39;49m\u001b[39mTrue\u001b[39;49;00m\n\u001b[0;32m     13\u001b[0m         )\n\u001b[0;32m     14\u001b[0m     \u001b[39mprint\u001b[39m(response)\n\u001b[0;32m     15\u001b[0m \u001b[39mexcept\u001b[39;00m aws_conn\u001b[39m.\u001b[39mexceptions\u001b[39m.\u001b[39mDBInstanceAlreadyExistsFault \u001b[39mas\u001b[39;00m ex:\n",
      "File \u001b[1;32mc:\\Users\\juanj\\anaconda3\\lib\\site-packages\\botocore\\client.py:530\u001b[0m, in \u001b[0;36mClientCreator._create_api_method.<locals>._api_call\u001b[1;34m(self, *args, **kwargs)\u001b[0m\n\u001b[0;32m    526\u001b[0m     \u001b[39mraise\u001b[39;00m \u001b[39mTypeError\u001b[39;00m(\n\u001b[0;32m    527\u001b[0m         \u001b[39mf\u001b[39m\u001b[39m\"\u001b[39m\u001b[39m{\u001b[39;00mpy_operation_name\u001b[39m}\u001b[39;00m\u001b[39m() only accepts keyword arguments.\u001b[39m\u001b[39m\"\u001b[39m\n\u001b[0;32m    528\u001b[0m     )\n\u001b[0;32m    529\u001b[0m \u001b[39m# The \"self\" in this scope is referring to the BaseClient.\u001b[39;00m\n\u001b[1;32m--> 530\u001b[0m \u001b[39mreturn\u001b[39;00m \u001b[39mself\u001b[39;49m\u001b[39m.\u001b[39;49m_make_api_call(operation_name, kwargs)\n",
      "File \u001b[1;32mc:\\Users\\juanj\\anaconda3\\lib\\site-packages\\botocore\\client.py:960\u001b[0m, in \u001b[0;36mBaseClient._make_api_call\u001b[1;34m(self, operation_name, api_params)\u001b[0m\n\u001b[0;32m    958\u001b[0m     error_code \u001b[39m=\u001b[39m parsed_response\u001b[39m.\u001b[39mget(\u001b[39m\"\u001b[39m\u001b[39mError\u001b[39m\u001b[39m\"\u001b[39m, {})\u001b[39m.\u001b[39mget(\u001b[39m\"\u001b[39m\u001b[39mCode\u001b[39m\u001b[39m\"\u001b[39m)\n\u001b[0;32m    959\u001b[0m     error_class \u001b[39m=\u001b[39m \u001b[39mself\u001b[39m\u001b[39m.\u001b[39mexceptions\u001b[39m.\u001b[39mfrom_code(error_code)\n\u001b[1;32m--> 960\u001b[0m     \u001b[39mraise\u001b[39;00m error_class(parsed_response, operation_name)\n\u001b[0;32m    961\u001b[0m \u001b[39melse\u001b[39;00m:\n\u001b[0;32m    962\u001b[0m     \u001b[39mreturn\u001b[39;00m parsed_response\n",
      "\u001b[1;31mClientError\u001b[0m: An error occurred (InvalidParameterValue) when calling the CreateDBInstance operation: The parameter DBInstanceIdentifier is not a valid identifier. Identifiers must begin with a letter; must contain only ASCII letters, digits, and hyphens; and must not end with a hyphen or contain two consecutive hyphens."
     ]
    }
   ],
   "source": [
    "try:\n",
    "    response = aws_conn.create_db_instance(\n",
    "            AllocatedStorage=10,\n",
    "            DBName=config.get('RDS', 'DB_NAME'),\n",
    "            DBInstanceIdentifier=rdsIdentifier,\n",
    "            DBInstanceClass=\"db.t3.micro\",\n",
    "            Engine=\"postgres\",\n",
    "            MasterUsername=config.get('RDS', 'DB_USER'),\n",
    "            MasterUserPassword=config.get('RDS', 'DB_PASSWORD'),\n",
    "            Port=int(config.get('RDS', 'DB_PORT')),\n",
    "            VpcSecurityGroupIds=[config.get('VPC', 'SECURITY_GROUP')],\n",
    "            PubliclyAccessible=True\n",
    "        )\n",
    "    print(response)\n",
    "except aws_conn.exceptions.DBInstanceAlreadyExistsFault as ex:\n",
    "    print(\"La Instancia de Base de Datos ya Existe.\")"
   ]
  },
  {
   "attachments": {},
   "cell_type": "markdown",
   "metadata": {},
   "source": [
    "##### Recordemos Esperar unos minutos para consultar la informaicón de la instancia."
   ]
  },
  {
   "attachments": {},
   "cell_type": "markdown",
   "metadata": {},
   "source": [
    "##### Obtenemos URL del Host"
   ]
  },
  {
   "cell_type": "code",
   "execution_count": null,
   "metadata": {},
   "outputs": [
    {
     "name": "stdout",
     "output_type": "stream",
     "text": [
      "banco-db-v1.cadi2n4znidj.us-east-1.rds.amazonaws.com\n"
     ]
    }
   ],
   "source": [
    "try:\n",
    "     instances = aws_conn.describe_db_instances(DBInstanceIdentifier=rdsIdentifier)\n",
    "     RDS_HOST = instances.get('DBInstances')[0].get('Endpoint').get('Address')\n",
    "     print(RDS_HOST)\n",
    "except Exception as ex:\n",
    "     print(\"La instancia de base de datos no existe o aun no se ha terminado de crear.\")\n",
    "     print(ex)"
   ]
  },
  {
   "attachments": {},
   "cell_type": "markdown",
   "metadata": {},
   "source": [
    "##### Conexión a Base de Datos desde Python"
   ]
  },
  {
   "cell_type": "code",
   "execution_count": null,
   "metadata": {},
   "outputs": [
    {
     "name": "stdout",
     "output_type": "stream",
     "text": [
      "Base de Datos Creada Exitosamente\n"
     ]
    }
   ],
   "source": [
    "from database_DDL import DDL\n",
    "try:\n",
    "    db_conn = psycopg2.connect(\n",
    "        database=config.get('RDS', 'DB_NAME'), \n",
    "        user=config.get('RDS', 'DB_USER'),\n",
    "        password=config.get('RDS', 'DB_PASSWORD'), \n",
    "        host=RDS_HOST,\n",
    "        port=config.get('RDS', 'DB_PORT')\n",
    "    )\n",
    "\n",
    "    cursor = db_conn.cursor()\n",
    "    cursor.execute(DDL)\n",
    "    db_conn.commit()\n",
    "    print(\"Base de Datos Creada Exitosamente\")\n",
    "except Exception as ex:\n",
    "    print(\"ERROR: Error al crear la base de datos.\")\n",
    "    print(ex)"
   ]
  },
  {
   "attachments": {},
   "cell_type": "markdown",
   "metadata": {},
   "source": [
    "### Lectura data en S3"
   ]
  },
  {
   "cell_type": "code",
   "execution_count": 16,
   "metadata": {},
   "outputs": [
    {
     "data": {
      "text/plain": [
       "{'countries.xlsx':      country_id ISO_code Continent         Country\n",
       " 0             1       AF      Asia     Afghanistan\n",
       " 1             2       AL    Europe         Albania\n",
       " 2             3       DZ    Africa         Algeria\n",
       " 3             4       AD    Europe         Andorra\n",
       " 4             5       AO    Africa          Angola\n",
       " ..          ...      ...       ...             ...\n",
       " 191         192       VN      Asia         Vietnam\n",
       " 192         193       EH    Africa  Western Sahara\n",
       " 193         194       YE      Asia           Yemen\n",
       " 194         195       ZM    Africa          Zambia\n",
       " 195         196       ZW    Africa        Zimbabwe\n",
       " \n",
       " [196 rows x 4 columns],\n",
       " 'purchases data.xlsx':       purchase_id                              user_id         country  \\\n",
       " 0        26854356  google-oauth2|102267249947183414840     Switzerland   \n",
       " 1        26854413  google-oauth2|102267249947183414840     Switzerland   \n",
       " 2        26857272       auth0|60e482d0fbcb4800692cdd97         Germany   \n",
       " 3        26860617       auth0|60e4a19f7e80be0071e5db55             USA   \n",
       " 4        26861131       auth0|60842ddc5a12e7006a39238e         Germany   \n",
       " ...           ...                                  ...             ...   \n",
       " 6072     24136785       auth0|605c97b01b38260069b12505             USA   \n",
       " 6073     24144096       auth0|5ff48f08fed6a900752fa6c6             USA   \n",
       " 6074     24146741       auth0|605db8536eb2390069abe62a  United Kingdom   \n",
       " 6075     24146914       auth0|605dc59b0497600068023158     Switzerland   \n",
       " 6076     24148405       auth0|6059f02b0894ad006984d2a0         Germany   \n",
       " \n",
       "          discountCode packageType                       date  \n",
       " 0          CANCANCAN1    hobbyist  2021-07-06 14:33:08+00:00  \n",
       " 1          CANCANCAN1      trader  2021-07-06 14:35:07+00:00  \n",
       " 2                 NaN    hobbyist  2021-07-06 16:21:26+00:00  \n",
       " 3                 NaN    hobbyist  2021-07-06 18:33:31+00:00  \n",
       " 4                 NaN      trader  2021-07-06 18:48:50+00:00  \n",
       " ...               ...         ...                        ...  \n",
       " 6072              NaN      trader  2021-03-26 01:49:10+00:00  \n",
       " 6073              NaN      trader  2021-03-26 09:55:12+00:00  \n",
       " 6074  FRIEND-TMK041UH         pro  2021-03-26 11:58:18+00:00  \n",
       " 6075              NaN    hobbyist  2021-03-26 12:05:41+00:00  \n",
       " 6076         ARMIN100      trader  2021-03-26 13:09:40+00:00  \n",
       " \n",
       " [6077 rows x 6 columns]}"
      ]
     },
     "execution_count": 16,
     "metadata": {},
     "output_type": "execute_result"
    }
   ],
   "source": [
    "s3 = boto3.resource(\n",
    "    service_name = 's3',\n",
    "    region_name = 'us-east-1',\n",
    "    aws_access_key_id = config.get('IAM', 'ACCESS_KEY'),\n",
    "    aws_secret_access_key = config.get('IAM', 'SECRET_ACCESS_KEY')\n",
    ")\n",
    "\n",
    "for bucket in s3.buckets.all():\n",
    "    S3_BUCKET_NAME = bucket.name\n",
    "\n",
    "\n",
    "import io\n",
    "remoteFileList = []\n",
    "for objt in s3.Bucket(S3_BUCKET_NAME).objects.all():\n",
    "    remoteFileList.append(objt.key)\n",
    "dfs = {}\n",
    "for remoteFile in remoteFileList:\n",
    "    try:\n",
    "        file = s3.Bucket(S3_BUCKET_NAME).Object(remoteFile).get()\n",
    "        data = file['Body'].read()\n",
    "        df_temp = pd.read_excel(io.BytesIO(data), engine='openpyxl')\n",
    "        dfs[remoteFile] = df_temp\n",
    "    except Exception as ex:\n",
    "        print(\"No es un archivo.\")\n",
    "        print(ex)\n",
    "\n",
    "dfs"
   ]
  },
  {
   "cell_type": "code",
   "execution_count": 18,
   "metadata": {},
   "outputs": [
    {
     "data": {
      "text/html": [
       "<div>\n",
       "<style scoped>\n",
       "    .dataframe tbody tr th:only-of-type {\n",
       "        vertical-align: middle;\n",
       "    }\n",
       "\n",
       "    .dataframe tbody tr th {\n",
       "        vertical-align: top;\n",
       "    }\n",
       "\n",
       "    .dataframe thead th {\n",
       "        text-align: right;\n",
       "    }\n",
       "</style>\n",
       "<table border=\"1\" class=\"dataframe\">\n",
       "  <thead>\n",
       "    <tr style=\"text-align: right;\">\n",
       "      <th></th>\n",
       "      <th>purchase_id</th>\n",
       "      <th>user_id</th>\n",
       "      <th>country</th>\n",
       "      <th>discountCode</th>\n",
       "      <th>packageType</th>\n",
       "      <th>date</th>\n",
       "    </tr>\n",
       "  </thead>\n",
       "  <tbody>\n",
       "    <tr>\n",
       "      <th>0</th>\n",
       "      <td>26854356</td>\n",
       "      <td>google-oauth2|102267249947183414840</td>\n",
       "      <td>Switzerland</td>\n",
       "      <td>CANCANCAN1</td>\n",
       "      <td>hobbyist</td>\n",
       "      <td>2021-07-06 14:33:08+00:00</td>\n",
       "    </tr>\n",
       "    <tr>\n",
       "      <th>1</th>\n",
       "      <td>26854413</td>\n",
       "      <td>google-oauth2|102267249947183414840</td>\n",
       "      <td>Switzerland</td>\n",
       "      <td>CANCANCAN1</td>\n",
       "      <td>trader</td>\n",
       "      <td>2021-07-06 14:35:07+00:00</td>\n",
       "    </tr>\n",
       "    <tr>\n",
       "      <th>2</th>\n",
       "      <td>26857272</td>\n",
       "      <td>auth0|60e482d0fbcb4800692cdd97</td>\n",
       "      <td>Germany</td>\n",
       "      <td>NaN</td>\n",
       "      <td>hobbyist</td>\n",
       "      <td>2021-07-06 16:21:26+00:00</td>\n",
       "    </tr>\n",
       "    <tr>\n",
       "      <th>3</th>\n",
       "      <td>26860617</td>\n",
       "      <td>auth0|60e4a19f7e80be0071e5db55</td>\n",
       "      <td>USA</td>\n",
       "      <td>NaN</td>\n",
       "      <td>hobbyist</td>\n",
       "      <td>2021-07-06 18:33:31+00:00</td>\n",
       "    </tr>\n",
       "    <tr>\n",
       "      <th>4</th>\n",
       "      <td>26861131</td>\n",
       "      <td>auth0|60842ddc5a12e7006a39238e</td>\n",
       "      <td>Germany</td>\n",
       "      <td>NaN</td>\n",
       "      <td>trader</td>\n",
       "      <td>2021-07-06 18:48:50+00:00</td>\n",
       "    </tr>\n",
       "    <tr>\n",
       "      <th>...</th>\n",
       "      <td>...</td>\n",
       "      <td>...</td>\n",
       "      <td>...</td>\n",
       "      <td>...</td>\n",
       "      <td>...</td>\n",
       "      <td>...</td>\n",
       "    </tr>\n",
       "    <tr>\n",
       "      <th>6072</th>\n",
       "      <td>24136785</td>\n",
       "      <td>auth0|605c97b01b38260069b12505</td>\n",
       "      <td>USA</td>\n",
       "      <td>NaN</td>\n",
       "      <td>trader</td>\n",
       "      <td>2021-03-26 01:49:10+00:00</td>\n",
       "    </tr>\n",
       "    <tr>\n",
       "      <th>6073</th>\n",
       "      <td>24144096</td>\n",
       "      <td>auth0|5ff48f08fed6a900752fa6c6</td>\n",
       "      <td>USA</td>\n",
       "      <td>NaN</td>\n",
       "      <td>trader</td>\n",
       "      <td>2021-03-26 09:55:12+00:00</td>\n",
       "    </tr>\n",
       "    <tr>\n",
       "      <th>6074</th>\n",
       "      <td>24146741</td>\n",
       "      <td>auth0|605db8536eb2390069abe62a</td>\n",
       "      <td>United Kingdom</td>\n",
       "      <td>FRIEND-TMK041UH</td>\n",
       "      <td>pro</td>\n",
       "      <td>2021-03-26 11:58:18+00:00</td>\n",
       "    </tr>\n",
       "    <tr>\n",
       "      <th>6075</th>\n",
       "      <td>24146914</td>\n",
       "      <td>auth0|605dc59b0497600068023158</td>\n",
       "      <td>Switzerland</td>\n",
       "      <td>NaN</td>\n",
       "      <td>hobbyist</td>\n",
       "      <td>2021-03-26 12:05:41+00:00</td>\n",
       "    </tr>\n",
       "    <tr>\n",
       "      <th>6076</th>\n",
       "      <td>24148405</td>\n",
       "      <td>auth0|6059f02b0894ad006984d2a0</td>\n",
       "      <td>Germany</td>\n",
       "      <td>ARMIN100</td>\n",
       "      <td>trader</td>\n",
       "      <td>2021-03-26 13:09:40+00:00</td>\n",
       "    </tr>\n",
       "  </tbody>\n",
       "</table>\n",
       "<p>6077 rows × 6 columns</p>\n",
       "</div>"
      ],
      "text/plain": [
       "      purchase_id                              user_id         country  \\\n",
       "0        26854356  google-oauth2|102267249947183414840     Switzerland   \n",
       "1        26854413  google-oauth2|102267249947183414840     Switzerland   \n",
       "2        26857272       auth0|60e482d0fbcb4800692cdd97         Germany   \n",
       "3        26860617       auth0|60e4a19f7e80be0071e5db55             USA   \n",
       "4        26861131       auth0|60842ddc5a12e7006a39238e         Germany   \n",
       "...           ...                                  ...             ...   \n",
       "6072     24136785       auth0|605c97b01b38260069b12505             USA   \n",
       "6073     24144096       auth0|5ff48f08fed6a900752fa6c6             USA   \n",
       "6074     24146741       auth0|605db8536eb2390069abe62a  United Kingdom   \n",
       "6075     24146914       auth0|605dc59b0497600068023158     Switzerland   \n",
       "6076     24148405       auth0|6059f02b0894ad006984d2a0         Germany   \n",
       "\n",
       "         discountCode packageType                       date  \n",
       "0          CANCANCAN1    hobbyist  2021-07-06 14:33:08+00:00  \n",
       "1          CANCANCAN1      trader  2021-07-06 14:35:07+00:00  \n",
       "2                 NaN    hobbyist  2021-07-06 16:21:26+00:00  \n",
       "3                 NaN    hobbyist  2021-07-06 18:33:31+00:00  \n",
       "4                 NaN      trader  2021-07-06 18:48:50+00:00  \n",
       "...               ...         ...                        ...  \n",
       "6072              NaN      trader  2021-03-26 01:49:10+00:00  \n",
       "6073              NaN      trader  2021-03-26 09:55:12+00:00  \n",
       "6074  FRIEND-TMK041UH         pro  2021-03-26 11:58:18+00:00  \n",
       "6075              NaN    hobbyist  2021-03-26 12:05:41+00:00  \n",
       "6076         ARMIN100      trader  2021-03-26 13:09:40+00:00  \n",
       "\n",
       "[6077 rows x 6 columns]"
      ]
     },
     "execution_count": 18,
     "metadata": {},
     "output_type": "execute_result"
    }
   ],
   "source": [
    "countries = dfs[remoteFileList[0]]\n",
    "df = dfs[remoteFileList[1]]\n",
    "\n",
    "# checkpoint> por hacer:\n",
    "# -- tranformar data:\n",
    "#     crear todas las dimensiones (datedim)\n",
    "#     hacer join con country para sacar country id\n",
    "# Preguntas a resolver:\n",
    "    # paises con mayor cantidad de ventas\n",
    "    # dia y hora con mas ventas\n",
    "    # analisis de discounts> cual se usa mas en que pais\n",
    "    # el paquete que mas se utilzia y el de mayores ingresos\n",
    "    # top package por continente\n",
    "    # cuantos paquetes por usuario se compran \n",
    "    # proporicion de compras con descuento y sin descuento por pais \n",
    "\n",
    "# df_factTable['year'] = pd.DatetimeIndex(df_factTable['fecha_hora']).year\n",
    "# df_factTable['month'] = pd.DatetimeIndex(df_factTable['fecha_hora']).month\n",
    "# df_factTable['day'] = pd.DatetimeIndex(df_factTable['fecha_hora']).day\n",
    "# df_factTable['hour'] = pd.DatetimeIndex(df_factTable['fecha_hora']).hour\n",
    "# df_factTable['minute'] = pd.DatetimeIndex(df_factTable['fecha_hora']).minute\n",
    "# df_factTable['id_fecha'] = df_factTable['year'].astype(str) + df_factTable['month'].astype(str)\n",
    "# df_factTable['id_fecha'] = df_factTable['id_fecha'].astype(str) + df_factTable['day'].astype(str)\n",
    "# df_factTable['id_fecha'] = df_factTable['id_fecha'].astype(str) + df_factTable['hour'].astype(str)\n",
    "# df_factTable['id_fecha'] = df_factTable['id_fecha'].astype(str) + df_factTable['minute'].astype(str)\n",
    "# factTable_transacciones = df_factTable.drop(['year', 'month', 'day', 'hour', 'minute', 'fecha_hora'], axis=1)\n",
    "# factTable_transacciones.head()\n",
    "\n",
    "\n",
    "\n",
    "df"
   ]
  },
  {
   "attachments": {},
   "cell_type": "markdown",
   "metadata": {},
   "source": [
    "##### Insertamos Datos en la Tabla de Transacciones"
   ]
  },
  {
   "cell_type": "code",
   "execution_count": 11,
   "metadata": {},
   "outputs": [],
   "source": [
    "def insertDataToSQL(data_dict, table_name):\n",
    "     postgres_driver = f\"\"\"postgresql://{config.get('RDS', 'DB_USER')}:{config.get('RDS', 'DB_PASSWORD')}@{RDS_HOST}:{config.get('RDS', 'DB_PORT')}/{config.get('RDS', 'DB_NAME')}\"\"\"    \n",
    "     df_data = pd.DataFrame.from_records(data_dict)\n",
    "     try:\n",
    "          response = df_data.to_sql(table_name, postgres_driver, index=False, if_exists='append')\n",
    "          print(f'Se han insertado {response} nuevos registros.' )\n",
    "     except Exception as ex:\n",
    "          print(ex)"
   ]
  },
  {
   "cell_type": "code",
   "execution_count": 8,
   "metadata": {},
   "outputs": [
    {
     "data": {
      "text/plain": [
       "[{'name_package': 'hobbyist', 'price': 10},\n",
       " {'name_package': 'pro', 'price': 20},\n",
       " {'name_package': 'tracker', 'price': 30},\n",
       " {'name_package': 'trader', 'price': 40}]"
      ]
     },
     "execution_count": 8,
     "metadata": {},
     "output_type": "execute_result"
    }
   ],
   "source": [
    "packages = [\n",
    "\n",
    "'hobbyist',\n",
    "'pro',\n",
    "'tracker',\n",
    "'trader'\n",
    "]\n",
    "a = 10\n",
    "package_data_real = []\n",
    "for package in packages:\n",
    "    package_data = {}\n",
    "\n",
    "    package_data['name_package'] = package\n",
    "    package_data['price'] = a\n",
    "    a += 10\n",
    "    package_data_real.append(package_data)\n",
    "\n",
    "package_data_real"
   ]
  },
  {
   "cell_type": "code",
   "execution_count": 12,
   "metadata": {},
   "outputs": [
    {
     "name": "stdout",
     "output_type": "stream",
     "text": [
      "Se han insertado 4 nuevos registros.\n"
     ]
    }
   ],
   "source": [
    "data_tipo_transaciones = [\n",
    "     {'id_tipo_transac': 85095, 'tipo_transaccion': 'Depóito'}, \n",
    "     {'id_tipo_transac': 85098, 'tipo_transaccion': 'Retiro'},\n",
    "     {'id_tipo_transac': 85194, 'tipo_transaccion': 'Transferencia'},\n",
    "     {'id_tipo_transac': 85133, 'tipo_transaccion': 'Pago Prestamo'}\n",
    "]\n",
    "\n",
    "#insertamos data en tabla tipo_transaccione \n",
    "insertDataToSQL(data_tipo_transaciones, 'tipo_transacciones')"
   ]
  },
  {
   "attachments": {},
   "cell_type": "markdown",
   "metadata": {},
   "source": [
    "#### Insertamos Data para Divisas"
   ]
  },
  {
   "cell_type": "code",
   "execution_count": 13,
   "metadata": {},
   "outputs": [
    {
     "name": "stdout",
     "output_type": "stream",
     "text": [
      "Se han insertado 3 nuevos registros.\n"
     ]
    }
   ],
   "source": [
    "data_divisas = [\n",
    "     {'id_divisa': 103589, 'nombre_divisa': 'Quetzales', 'simbolo': 'Q'}, \n",
    "     {'id_divisa': 114589, 'nombre_divisa': 'Dolares', 'simbolo': '$'},\n",
    "     {'id_divisa': 125487, 'nombre_divisa': 'Euros', 'simbolo': '€'}\n",
    "]\n",
    "\n",
    "insertDataToSQL(data_divisas, 'divisas')"
   ]
  },
  {
   "attachments": {},
   "cell_type": "markdown",
   "metadata": {},
   "source": [
    "##### Insertamos Data para tipo_documentos"
   ]
  },
  {
   "cell_type": "code",
   "execution_count": 14,
   "metadata": {},
   "outputs": [
    {
     "name": "stdout",
     "output_type": "stream",
     "text": [
      "Se han insertado 3 nuevos registros.\n"
     ]
    }
   ],
   "source": [
    "data_tipo_documentos = [\n",
    "     {'id_tipo_documento': 103589, 'nombre_tipo_documento': 'Recibo'}, \n",
    "     {'id_tipo_documento': 114589, 'nombre_tipo_documento': 'Cheque'},\n",
    "     {'id_tipo_documento': 125487, 'nombre_tipo_documento': 'Contrato 101' }\n",
    "]\n",
    "\n",
    "insertDataToSQL(data_tipo_documentos, 'tipo_documentos')\n"
   ]
  },
  {
   "attachments": {},
   "cell_type": "markdown",
   "metadata": {},
   "source": [
    "##### Insertamos Data para Generos"
   ]
  },
  {
   "cell_type": "code",
   "execution_count": 15,
   "metadata": {},
   "outputs": [
    {
     "name": "stdout",
     "output_type": "stream",
     "text": [
      "Se han insertado 2 nuevos registros.\n"
     ]
    }
   ],
   "source": [
    "data_generos = [\n",
    "     {'id_genero': 2002, 'genero': 'Maculino'}, \n",
    "     {'id_genero': 2003, 'genero': 'Femenino'}\n",
    "]\n",
    "\n",
    "insertDataToSQL(data_generos, 'generos')"
   ]
  },
  {
   "attachments": {},
   "cell_type": "markdown",
   "metadata": {},
   "source": [
    "##### Insertamos Data para Sectores"
   ]
  },
  {
   "cell_type": "code",
   "execution_count": 16,
   "metadata": {},
   "outputs": [
    {
     "name": "stdout",
     "output_type": "stream",
     "text": [
      "Se han insertado 7 nuevos registros.\n"
     ]
    }
   ],
   "source": [
    "data_sectores = [\n",
    "    {'id_sector': 58974, 'nombre': 'Centro', 'latitud': 90.5689, 'longitud': 91.5687},\n",
    "    {'id_sector': 58978, 'nombre': 'Centro Sur', 'latitud': 90.5981, 'longitud': 91.56878},\n",
    "    {'id_sector': 58998, 'nombre': 'Centro Norte', 'latitud': 90.59875, 'longitud': 91.59897},\n",
    "    {'id_sector': 58784, 'nombre': 'Sur Este', 'latitud': 90.78785, 'longitud': 91.4578},\n",
    "    {'id_sector': 78786, 'nombre': 'Norte Este', 'latitud': 90.5689, 'longitud': 91.5687},\n",
    "    {'id_sector': 56565, 'nombre': 'Sur Oeste', 'latitud': 90.4412, 'longitud': 91.9897},\n",
    "    {'id_sector': 58889, 'nombre': 'Norte Oeste', 'latitud': 90.78745, 'longitud': 91.78897}\n",
    "]\n",
    "insertDataToSQL(data_sectores, 'sectores')"
   ]
  },
  {
   "attachments": {},
   "cell_type": "markdown",
   "metadata": {},
   "source": [
    "##### Insertamos Data para Direcciones"
   ]
  },
  {
   "cell_type": "code",
   "execution_count": 17,
   "metadata": {},
   "outputs": [
    {
     "name": "stdout",
     "output_type": "stream",
     "text": [
      "Se han insertado 966 nuevos registros.\n"
     ]
    }
   ],
   "source": [
    "data_direcciones = []\n",
    "\n",
    "for index, direccion in enumerate(range(cantidad_clientes)):\n",
    "    sector_random = random.sample(data_sectores,1)\n",
    "    nueva_direccion = {\n",
    "          'id_direccion': index,\n",
    "          'no_casa': str(np.random.randint(1, 99)) + '-' + str(np.random.randint(1, 99)),\n",
    "          'avenida': np.random.randint(1, 45),\n",
    "          'calle':np.random.randint(1, 50),\n",
    "          'zona':np.random.randint(1, 21),\n",
    "          'id_sector' : sector_random[0]['id_sector']\n",
    "    }\n",
    "\n",
    "    data_direcciones.append(nueva_direccion)\n",
    "insertDataToSQL(data_direcciones, 'direcciones')"
   ]
  },
  {
   "attachments": {},
   "cell_type": "markdown",
   "metadata": {},
   "source": [
    "##### Insertamos Data para Clientes"
   ]
  },
  {
   "cell_type": "code",
   "execution_count": 18,
   "metadata": {},
   "outputs": [
    {
     "name": "stdout",
     "output_type": "stream",
     "text": [
      "Se han insertado 966 nuevos registros.\n"
     ]
    }
   ],
   "source": [
    "data_clientes = []\n",
    "data_direcciones_copy = data_direcciones.copy() #copia por valor.\n",
    "\n",
    "for cliente in range(cantidad_clientes):\n",
    "    clientProfile = fake.profile()\n",
    "    direccion_random = random.sample(data_direcciones_copy, 1)\n",
    "    data_direcciones_copy.remove(direccion_random[0])\n",
    "    nuevo_cliente = {\n",
    "        'id_cliente': random.randint(10000000, 99999999),\n",
    "        'nombre': clientProfile['name'].split(' ')[0],\n",
    "        'apellido': clientProfile['name'].split(' ')[1],\n",
    "        'correo': clientProfile['mail'],\n",
    "        'fecha_nacimiento': clientProfile['birthdate'],\n",
    "        'telefono': clientProfile['ssn'],\n",
    "        'id_direccion': direccion_random[0]['id_direccion'],\n",
    "        'id_genero': data_generos[0]['id_genero'] if(clientProfile['sex'] == 'M') else data_generos[1]['id_genero'] \n",
    "    }\n",
    "\n",
    "    data_clientes.append(nuevo_cliente)\n",
    "\n",
    "insertDataToSQL(data_clientes, 'clientes')"
   ]
  },
  {
   "attachments": {},
   "cell_type": "markdown",
   "metadata": {},
   "source": [
    "##### Insertamos Data de Cargos"
   ]
  },
  {
   "cell_type": "code",
   "execution_count": 19,
   "metadata": {},
   "outputs": [
    {
     "name": "stdout",
     "output_type": "stream",
     "text": [
      "Se han insertado 3 nuevos registros.\n"
     ]
    }
   ],
   "source": [
    "data_cargos = [\n",
    "    {'id_cargo': 101, 'titulo_cargo': 'Cajero - Receptor'},\n",
    "    {'id_cargo': 202, 'titulo_cargo': 'Gerente de Sucursal'},\n",
    "    {'id_cargo': 303, 'titulo_cargo': 'Supervisor de Sector'}\n",
    "]\n",
    "insertDataToSQL(data_cargos, 'cargos')"
   ]
  },
  {
   "attachments": {},
   "cell_type": "markdown",
   "metadata": {},
   "source": [
    "##### Insertamos Data de Colaboradores"
   ]
  },
  {
   "cell_type": "code",
   "execution_count": 20,
   "metadata": {},
   "outputs": [
    {
     "name": "stdout",
     "output_type": "stream",
     "text": [
      "Se han insertado 106 nuevos registros.\n"
     ]
    }
   ],
   "source": [
    "cantidad_colaboradores = np.random.randint(50, 150)\n",
    "data_colaboradores = []\n",
    "\n",
    "for colab in range(cantidad_colaboradores):\n",
    "    colaboradorProfile = fake.profile()\n",
    "    nuevo_colaborador = {\n",
    "        'id_colaborador': random.randint(10000, 99999),\n",
    "        'nombre': colaboradorProfile['name'].split(' ')[0],\n",
    "        'apellido': colaboradorProfile['name'].split(' ')[1], \n",
    "        'id_cargo': random.choices(data_cargos, weights=(0.6, 0.3, 0.1),  k=1)[0]['id_cargo']\n",
    "    }\n",
    "\n",
    "    data_colaboradores.append(nuevo_colaborador)\n",
    "insertDataToSQL(data_colaboradores, 'colaboradores')"
   ]
  },
  {
   "cell_type": "code",
   "execution_count": 32,
   "metadata": {},
   "outputs": [
    {
     "data": {
      "text/html": [
       "<div>\n",
       "<style scoped>\n",
       "    .dataframe tbody tr th:only-of-type {\n",
       "        vertical-align: middle;\n",
       "    }\n",
       "\n",
       "    .dataframe tbody tr th {\n",
       "        vertical-align: top;\n",
       "    }\n",
       "\n",
       "    .dataframe thead th {\n",
       "        text-align: right;\n",
       "    }\n",
       "</style>\n",
       "<table border=\"1\" class=\"dataframe\">\n",
       "  <thead>\n",
       "    <tr style=\"text-align: right;\">\n",
       "      <th></th>\n",
       "      <th>id_colaborador</th>\n",
       "      <th>nombre</th>\n",
       "      <th>apellido</th>\n",
       "      <th>id_cargo</th>\n",
       "    </tr>\n",
       "  </thead>\n",
       "  <tbody>\n",
       "    <tr>\n",
       "      <th>0</th>\n",
       "      <td>20939</td>\n",
       "      <td>Jacqueline</td>\n",
       "      <td>Adams</td>\n",
       "      <td>202</td>\n",
       "    </tr>\n",
       "    <tr>\n",
       "      <th>1</th>\n",
       "      <td>50492</td>\n",
       "      <td>Bruce</td>\n",
       "      <td>Anderson</td>\n",
       "      <td>202</td>\n",
       "    </tr>\n",
       "    <tr>\n",
       "      <th>2</th>\n",
       "      <td>44142</td>\n",
       "      <td>Albert</td>\n",
       "      <td>Ochoa</td>\n",
       "      <td>202</td>\n",
       "    </tr>\n",
       "    <tr>\n",
       "      <th>3</th>\n",
       "      <td>93924</td>\n",
       "      <td>Stephanie</td>\n",
       "      <td>Contreras</td>\n",
       "      <td>202</td>\n",
       "    </tr>\n",
       "    <tr>\n",
       "      <th>4</th>\n",
       "      <td>93471</td>\n",
       "      <td>Victor</td>\n",
       "      <td>Espinoza</td>\n",
       "      <td>202</td>\n",
       "    </tr>\n",
       "    <tr>\n",
       "      <th>5</th>\n",
       "      <td>57766</td>\n",
       "      <td>Robert</td>\n",
       "      <td>Gonzales</td>\n",
       "      <td>202</td>\n",
       "    </tr>\n",
       "    <tr>\n",
       "      <th>6</th>\n",
       "      <td>66144</td>\n",
       "      <td>Darrell</td>\n",
       "      <td>Wright</td>\n",
       "      <td>202</td>\n",
       "    </tr>\n",
       "    <tr>\n",
       "      <th>7</th>\n",
       "      <td>11926</td>\n",
       "      <td>Miss</td>\n",
       "      <td>Rebecca</td>\n",
       "      <td>202</td>\n",
       "    </tr>\n",
       "    <tr>\n",
       "      <th>8</th>\n",
       "      <td>93933</td>\n",
       "      <td>William</td>\n",
       "      <td>Miller</td>\n",
       "      <td>202</td>\n",
       "    </tr>\n",
       "    <tr>\n",
       "      <th>9</th>\n",
       "      <td>73342</td>\n",
       "      <td>Jean</td>\n",
       "      <td>Williams</td>\n",
       "      <td>202</td>\n",
       "    </tr>\n",
       "    <tr>\n",
       "      <th>10</th>\n",
       "      <td>37617</td>\n",
       "      <td>Crystal</td>\n",
       "      <td>Fields</td>\n",
       "      <td>202</td>\n",
       "    </tr>\n",
       "    <tr>\n",
       "      <th>11</th>\n",
       "      <td>75186</td>\n",
       "      <td>Sara</td>\n",
       "      <td>David</td>\n",
       "      <td>202</td>\n",
       "    </tr>\n",
       "    <tr>\n",
       "      <th>12</th>\n",
       "      <td>48031</td>\n",
       "      <td>Robert</td>\n",
       "      <td>Baldwin</td>\n",
       "      <td>202</td>\n",
       "    </tr>\n",
       "    <tr>\n",
       "      <th>13</th>\n",
       "      <td>21266</td>\n",
       "      <td>John</td>\n",
       "      <td>Patrick</td>\n",
       "      <td>202</td>\n",
       "    </tr>\n",
       "    <tr>\n",
       "      <th>14</th>\n",
       "      <td>98148</td>\n",
       "      <td>Steven</td>\n",
       "      <td>Graham</td>\n",
       "      <td>202</td>\n",
       "    </tr>\n",
       "    <tr>\n",
       "      <th>15</th>\n",
       "      <td>42129</td>\n",
       "      <td>Angela</td>\n",
       "      <td>Hines</td>\n",
       "      <td>202</td>\n",
       "    </tr>\n",
       "    <tr>\n",
       "      <th>16</th>\n",
       "      <td>64925</td>\n",
       "      <td>Eric</td>\n",
       "      <td>Mcclure</td>\n",
       "      <td>202</td>\n",
       "    </tr>\n",
       "    <tr>\n",
       "      <th>17</th>\n",
       "      <td>10271</td>\n",
       "      <td>Julia</td>\n",
       "      <td>Yu</td>\n",
       "      <td>202</td>\n",
       "    </tr>\n",
       "    <tr>\n",
       "      <th>18</th>\n",
       "      <td>54491</td>\n",
       "      <td>Todd</td>\n",
       "      <td>Weber</td>\n",
       "      <td>202</td>\n",
       "    </tr>\n",
       "    <tr>\n",
       "      <th>19</th>\n",
       "      <td>38763</td>\n",
       "      <td>Monica</td>\n",
       "      <td>Simmons</td>\n",
       "      <td>202</td>\n",
       "    </tr>\n",
       "    <tr>\n",
       "      <th>20</th>\n",
       "      <td>65879</td>\n",
       "      <td>Kevin</td>\n",
       "      <td>Rodriguez</td>\n",
       "      <td>202</td>\n",
       "    </tr>\n",
       "    <tr>\n",
       "      <th>21</th>\n",
       "      <td>91243</td>\n",
       "      <td>Olivia</td>\n",
       "      <td>Day</td>\n",
       "      <td>202</td>\n",
       "    </tr>\n",
       "    <tr>\n",
       "      <th>22</th>\n",
       "      <td>36679</td>\n",
       "      <td>Joseph</td>\n",
       "      <td>Taylor</td>\n",
       "      <td>202</td>\n",
       "    </tr>\n",
       "    <tr>\n",
       "      <th>23</th>\n",
       "      <td>29927</td>\n",
       "      <td>Fernando</td>\n",
       "      <td>Franklin</td>\n",
       "      <td>202</td>\n",
       "    </tr>\n",
       "    <tr>\n",
       "      <th>24</th>\n",
       "      <td>95056</td>\n",
       "      <td>Patricia</td>\n",
       "      <td>Strickland</td>\n",
       "      <td>202</td>\n",
       "    </tr>\n",
       "    <tr>\n",
       "      <th>25</th>\n",
       "      <td>62518</td>\n",
       "      <td>Madeline</td>\n",
       "      <td>Miller</td>\n",
       "      <td>202</td>\n",
       "    </tr>\n",
       "    <tr>\n",
       "      <th>26</th>\n",
       "      <td>97603</td>\n",
       "      <td>Lance</td>\n",
       "      <td>Lee</td>\n",
       "      <td>202</td>\n",
       "    </tr>\n",
       "    <tr>\n",
       "      <th>27</th>\n",
       "      <td>43878</td>\n",
       "      <td>Tiffany</td>\n",
       "      <td>Edwards</td>\n",
       "      <td>202</td>\n",
       "    </tr>\n",
       "    <tr>\n",
       "      <th>28</th>\n",
       "      <td>93066</td>\n",
       "      <td>Jared</td>\n",
       "      <td>Bradley</td>\n",
       "      <td>202</td>\n",
       "    </tr>\n",
       "    <tr>\n",
       "      <th>29</th>\n",
       "      <td>63711</td>\n",
       "      <td>Lauren</td>\n",
       "      <td>Spears</td>\n",
       "      <td>202</td>\n",
       "    </tr>\n",
       "    <tr>\n",
       "      <th>30</th>\n",
       "      <td>18525</td>\n",
       "      <td>Austin</td>\n",
       "      <td>Williamson</td>\n",
       "      <td>202</td>\n",
       "    </tr>\n",
       "    <tr>\n",
       "      <th>31</th>\n",
       "      <td>71079</td>\n",
       "      <td>Jane</td>\n",
       "      <td>Shah</td>\n",
       "      <td>202</td>\n",
       "    </tr>\n",
       "    <tr>\n",
       "      <th>32</th>\n",
       "      <td>57925</td>\n",
       "      <td>Andrew</td>\n",
       "      <td>Smith</td>\n",
       "      <td>202</td>\n",
       "    </tr>\n",
       "    <tr>\n",
       "      <th>33</th>\n",
       "      <td>36127</td>\n",
       "      <td>Vanessa</td>\n",
       "      <td>Lee</td>\n",
       "      <td>202</td>\n",
       "    </tr>\n",
       "    <tr>\n",
       "      <th>34</th>\n",
       "      <td>70709</td>\n",
       "      <td>Holly</td>\n",
       "      <td>Peterson</td>\n",
       "      <td>202</td>\n",
       "    </tr>\n",
       "    <tr>\n",
       "      <th>35</th>\n",
       "      <td>57497</td>\n",
       "      <td>Joanna</td>\n",
       "      <td>Baldwin</td>\n",
       "      <td>202</td>\n",
       "    </tr>\n",
       "  </tbody>\n",
       "</table>\n",
       "</div>"
      ],
      "text/plain": [
       "    id_colaborador      nombre    apellido  id_cargo\n",
       "0            20939  Jacqueline       Adams       202\n",
       "1            50492       Bruce    Anderson       202\n",
       "2            44142      Albert       Ochoa       202\n",
       "3            93924   Stephanie   Contreras       202\n",
       "4            93471      Victor    Espinoza       202\n",
       "5            57766      Robert    Gonzales       202\n",
       "6            66144     Darrell      Wright       202\n",
       "7            11926        Miss     Rebecca       202\n",
       "8            93933     William      Miller       202\n",
       "9            73342        Jean    Williams       202\n",
       "10           37617     Crystal      Fields       202\n",
       "11           75186        Sara       David       202\n",
       "12           48031      Robert     Baldwin       202\n",
       "13           21266        John     Patrick       202\n",
       "14           98148      Steven      Graham       202\n",
       "15           42129      Angela       Hines       202\n",
       "16           64925        Eric     Mcclure       202\n",
       "17           10271       Julia          Yu       202\n",
       "18           54491        Todd       Weber       202\n",
       "19           38763      Monica     Simmons       202\n",
       "20           65879       Kevin   Rodriguez       202\n",
       "21           91243      Olivia         Day       202\n",
       "22           36679      Joseph      Taylor       202\n",
       "23           29927    Fernando    Franklin       202\n",
       "24           95056    Patricia  Strickland       202\n",
       "25           62518    Madeline      Miller       202\n",
       "26           97603       Lance         Lee       202\n",
       "27           43878     Tiffany     Edwards       202\n",
       "28           93066       Jared     Bradley       202\n",
       "29           63711      Lauren      Spears       202\n",
       "30           18525      Austin  Williamson       202\n",
       "31           71079        Jane        Shah       202\n",
       "32           57925      Andrew       Smith       202\n",
       "33           36127     Vanessa         Lee       202\n",
       "34           70709       Holly    Peterson       202\n",
       "35           57497      Joanna     Baldwin       202"
      ]
     },
     "execution_count": 32,
     "metadata": {},
     "output_type": "execute_result"
    }
   ],
   "source": [
    "managers = [colaborator for colaborator in data_colaboradores if colaborator['id_cargo'] == 202]\n",
    "cantidad_sucursales =  len(managers)\n",
    "managers_copy = managers.copy()\n",
    "data_sucursales = []\n",
    "pd.DataFrame(managers_copy)"
   ]
  },
  {
   "attachments": {},
   "cell_type": "markdown",
   "metadata": {},
   "source": [
    "##### Insertamos Data de Sucursales"
   ]
  },
  {
   "cell_type": "code",
   "execution_count": 33,
   "metadata": {},
   "outputs": [
    {
     "name": "stdout",
     "output_type": "stream",
     "text": [
      "Se han insertado 36 nuevos registros.\n"
     ]
    }
   ],
   "source": [
    "managers = [colaborator for colaborator in data_colaboradores if colaborator['id_cargo'] == 202]\n",
    "cantidad_sucursales =  len(managers)\n",
    "managers_copy = managers.copy()\n",
    "data_sucursales = []\n",
    "\n",
    "for sucursal in range(cantidad_sucursales):\n",
    "    #seleccionamos gerente para sucursal\n",
    "    manager = random.sample(managers_copy, 1)[0]\n",
    "    managers_copy.remove(manager)\n",
    "\n",
    "    #seleccionamos sector.\n",
    "    sector_random = random.sample(data_sectores,1)[0]['id_sector']\n",
    "    \n",
    "    #nombre de la sucursal\n",
    "    sucursal_profile = fake.profile()\n",
    "    nombre_sucursal = sucursal_profile['residence'].split('\\n')[0]\n",
    "    nombre_sucursal = ''.join([i for i in nombre_sucursal if not i.isdigit()]).strip()\n",
    "\n",
    "    nueva_sucursal = {\n",
    "        'id_sucursal': np.random.randint(180000, 190000),\n",
    "        'nombre': nombre_sucursal,\n",
    "        'id_sector': sector_random,\n",
    "        'id_gerente': manager['id_colaborador']\n",
    "    }\n",
    "\n",
    "    data_sucursales.append(nueva_sucursal)\n",
    "\n",
    "insertDataToSQL(data_sucursales, 'sucursales')"
   ]
  },
  {
   "attachments": {},
   "cell_type": "markdown",
   "metadata": {},
   "source": [
    "##### Insertamos Datos de tipo_cuentas"
   ]
  },
  {
   "cell_type": "code",
   "execution_count": 22,
   "metadata": {},
   "outputs": [
    {
     "name": "stdout",
     "output_type": "stream",
     "text": [
      "Se han insertado 6 nuevos registros.\n"
     ]
    }
   ],
   "source": [
    "data_tipoCuentas = [\n",
    "    {'id_tipo_cuenta': 90025, 'tipo_cuenta': 'Monetaria Quetzales'},\n",
    "    {'id_tipo_cuenta': 90026, 'tipo_cuenta': 'Monetaria Dolares'},\n",
    "    {'id_tipo_cuenta': 90036, 'tipo_cuenta': 'Ahorro Quetzales'},\n",
    "    {'id_tipo_cuenta': 90078, 'tipo_cuenta': 'Ahorro Dolares'},\n",
    "    {'id_tipo_cuenta': 90044, 'tipo_cuenta': 'Cheques Quetzales'},\n",
    "    {'id_tipo_cuenta': 90019, 'tipo_cuenta': 'Cheques Dolares'}\n",
    "]\n",
    "insertDataToSQL(data_tipoCuentas, 'tipos_cuentas')"
   ]
  },
  {
   "attachments": {},
   "cell_type": "markdown",
   "metadata": {},
   "source": [
    "##### Insertamos Data para Cuentas"
   ]
  },
  {
   "cell_type": "code",
   "execution_count": 23,
   "metadata": {},
   "outputs": [
    {
     "name": "stdout",
     "output_type": "stream",
     "text": [
      "Se han insertado 966 nuevos registros.\n"
     ]
    }
   ],
   "source": [
    "data_cuentas = []\n",
    "df_data_clientes = pd.DataFrame.from_records(data_clientes)\n",
    "\n",
    "for idnex, df_row in df_data_clientes.iterrows():\n",
    "     nombre_cuenta = df_row['nombre'] + ' ' + df_row['apellido']\n",
    "     nueva_cuenta = {\n",
    "          'id_cuenta' : np.random.randint(1000000, 9999999),\n",
    "          'nombre_cuenta' : nombre_cuenta,\n",
    "          'id_tipo_cuenta': random.sample(data_tipoCuentas, 1)[0]['id_tipo_cuenta'],\n",
    "          'balance': round(random.uniform(100, 1000), 2)\n",
    "     }\n",
    "\n",
    "     data_cuentas.append(nueva_cuenta)\n",
    "insertDataToSQL(data_cuentas, 'cuentas')"
   ]
  },
  {
   "attachments": {},
   "cell_type": "markdown",
   "metadata": {},
   "source": [
    "##### Insertamos Data de Transacciones"
   ]
  },
  {
   "cell_type": "code",
   "execution_count": 34,
   "metadata": {},
   "outputs": [
    {
     "name": "stdout",
     "output_type": "stream",
     "text": [
      "Se han insertado 258 nuevos registros.\n"
     ]
    }
   ],
   "source": [
    "cantidad_transacciones = np.random.randint(1000, 2000)\n",
    "data_transacciones = []\n",
    "\n",
    "for transac in range(cantidad_transacciones):\n",
    "    nueva_transaccion = {\n",
    "            'id_transaccion': transac,\n",
    "            'fecha_hora': fake.date_time_this_year(),\n",
    "            'monto': round(random.uniform(1000, 10000), 2),\n",
    "            \n",
    "            'id_tipo_transaccion': random.sample(data_tipo_transaciones, 1)[0]['id_tipo_transac'],\n",
    "            'id_divisa':  random.sample(data_divisas, 1)[0]['id_divisa'],\n",
    "            'id_cliente': random.sample(data_clientes, 1)[0]['id_cliente'],\n",
    "            'id_sucursal': random.sample(data_sucursales, 1)[0]['id_sucursal'],\n",
    "            'id_colaborador': random.sample(data_colaboradores, 1)[0]['id_colaborador'],\n",
    "            'id_documento_respaldo': random.sample(data_tipo_documentos, 1)[0]['id_tipo_documento'],\n",
    "            'id_cuenta_origen' : random.sample(data_cuentas, 1)[0]['id_cuenta'],\n",
    "            'id_cuenta_destino':random.sample(data_cuentas, 1)[0]['id_cuenta']\n",
    "        }\n",
    "    \n",
    "    data_transacciones.append(nueva_transaccion)\n",
    "   \n",
    "insertDataToSQL(data_transacciones, 'transacciones')"
   ]
  },
  {
   "cell_type": "code",
   "execution_count": 42,
   "metadata": {},
   "outputs": [],
   "source": [
    "postgres_driver = f\"\"\"postgresql://{config.get('RDS', 'DB_USER')}:{config.get('RDS', 'DB_PASSWORD')}@{RDS_HOST}:{config.get('RDS', 'DB_PORT')}/{config.get('RDS', 'DB_NAME')}\"\"\"    \n",
    "\n",
    "query = 'select * from generos'\n",
    "df_generos = pd.read_sql(query, postgres_driver)\n",
    "\n",
    "query = 'select * from clientes'\n",
    "df_clientes = pd.read_sql(query, postgres_driver)\n",
    "\n",
    "query = 'select * from direcciones'\n",
    "df_direcciones = pd.read_sql(query, postgres_driver)\n",
    "\n",
    "query = 'select * from sectores'\n",
    "df_sectores = pd.read_sql(query, postgres_driver)"
   ]
  },
  {
   "cell_type": "code",
   "execution_count": 45,
   "metadata": {},
   "outputs": [
    {
     "data": {
      "text/html": [
       "<div>\n",
       "<style scoped>\n",
       "    .dataframe tbody tr th:only-of-type {\n",
       "        vertical-align: middle;\n",
       "    }\n",
       "\n",
       "    .dataframe tbody tr th {\n",
       "        vertical-align: top;\n",
       "    }\n",
       "\n",
       "    .dataframe thead th {\n",
       "        text-align: right;\n",
       "    }\n",
       "</style>\n",
       "<table border=\"1\" class=\"dataframe\">\n",
       "  <thead>\n",
       "    <tr style=\"text-align: right;\">\n",
       "      <th></th>\n",
       "      <th>id_cliente</th>\n",
       "      <th>nombre_cliente</th>\n",
       "      <th>apellido</th>\n",
       "      <th>correo</th>\n",
       "      <th>fecha_nacimiento</th>\n",
       "      <th>telefono</th>\n",
       "      <th>genero</th>\n",
       "      <th>no_casa</th>\n",
       "      <th>avenida</th>\n",
       "      <th>calle</th>\n",
       "      <th>zona</th>\n",
       "      <th>nombre_sector</th>\n",
       "      <th>latitud</th>\n",
       "      <th>longitud</th>\n",
       "    </tr>\n",
       "  </thead>\n",
       "  <tbody>\n",
       "    <tr>\n",
       "      <th>0</th>\n",
       "      <td>84301266</td>\n",
       "      <td>Jasmine</td>\n",
       "      <td>Mills</td>\n",
       "      <td>karinasharp@yahoo.com</td>\n",
       "      <td>1926-11-24</td>\n",
       "      <td>137-65-2220</td>\n",
       "      <td>Femenino</td>\n",
       "      <td>15-16</td>\n",
       "      <td>18</td>\n",
       "      <td>46</td>\n",
       "      <td>18</td>\n",
       "      <td>Centro Norte</td>\n",
       "      <td>90.59875</td>\n",
       "      <td>91.59897</td>\n",
       "    </tr>\n",
       "    <tr>\n",
       "      <th>1</th>\n",
       "      <td>10326661</td>\n",
       "      <td>Tina</td>\n",
       "      <td>Wiley</td>\n",
       "      <td>rebeccawatkins@hotmail.com</td>\n",
       "      <td>1999-01-25</td>\n",
       "      <td>013-38-0790</td>\n",
       "      <td>Femenino</td>\n",
       "      <td>43-43</td>\n",
       "      <td>15</td>\n",
       "      <td>14</td>\n",
       "      <td>9</td>\n",
       "      <td>Centro Norte</td>\n",
       "      <td>90.59875</td>\n",
       "      <td>91.59897</td>\n",
       "    </tr>\n",
       "    <tr>\n",
       "      <th>2</th>\n",
       "      <td>29900694</td>\n",
       "      <td>Samantha</td>\n",
       "      <td>Fowler</td>\n",
       "      <td>justin85@hotmail.com</td>\n",
       "      <td>1943-03-15</td>\n",
       "      <td>030-78-9033</td>\n",
       "      <td>Femenino</td>\n",
       "      <td>24-88</td>\n",
       "      <td>1</td>\n",
       "      <td>39</td>\n",
       "      <td>2</td>\n",
       "      <td>Centro Norte</td>\n",
       "      <td>90.59875</td>\n",
       "      <td>91.59897</td>\n",
       "    </tr>\n",
       "    <tr>\n",
       "      <th>3</th>\n",
       "      <td>82241218</td>\n",
       "      <td>Ann</td>\n",
       "      <td>Mora</td>\n",
       "      <td>michelleday@hotmail.com</td>\n",
       "      <td>1993-12-22</td>\n",
       "      <td>066-27-4596</td>\n",
       "      <td>Femenino</td>\n",
       "      <td>3-78</td>\n",
       "      <td>28</td>\n",
       "      <td>34</td>\n",
       "      <td>7</td>\n",
       "      <td>Centro Norte</td>\n",
       "      <td>90.59875</td>\n",
       "      <td>91.59897</td>\n",
       "    </tr>\n",
       "    <tr>\n",
       "      <th>4</th>\n",
       "      <td>39159197</td>\n",
       "      <td>Dr.</td>\n",
       "      <td>Meghan</td>\n",
       "      <td>smithsamuel@hotmail.com</td>\n",
       "      <td>1945-03-10</td>\n",
       "      <td>886-68-1329</td>\n",
       "      <td>Femenino</td>\n",
       "      <td>33-80</td>\n",
       "      <td>36</td>\n",
       "      <td>46</td>\n",
       "      <td>9</td>\n",
       "      <td>Centro Norte</td>\n",
       "      <td>90.59875</td>\n",
       "      <td>91.59897</td>\n",
       "    </tr>\n",
       "    <tr>\n",
       "      <th>...</th>\n",
       "      <td>...</td>\n",
       "      <td>...</td>\n",
       "      <td>...</td>\n",
       "      <td>...</td>\n",
       "      <td>...</td>\n",
       "      <td>...</td>\n",
       "      <td>...</td>\n",
       "      <td>...</td>\n",
       "      <td>...</td>\n",
       "      <td>...</td>\n",
       "      <td>...</td>\n",
       "      <td>...</td>\n",
       "      <td>...</td>\n",
       "      <td>...</td>\n",
       "    </tr>\n",
       "    <tr>\n",
       "      <th>961</th>\n",
       "      <td>89322645</td>\n",
       "      <td>Michael</td>\n",
       "      <td>Lopez</td>\n",
       "      <td>xmedina@gmail.com</td>\n",
       "      <td>2008-01-29</td>\n",
       "      <td>889-68-9151</td>\n",
       "      <td>Maculino</td>\n",
       "      <td>8-49</td>\n",
       "      <td>17</td>\n",
       "      <td>23</td>\n",
       "      <td>7</td>\n",
       "      <td>Sur Este</td>\n",
       "      <td>90.78785</td>\n",
       "      <td>91.45780</td>\n",
       "    </tr>\n",
       "    <tr>\n",
       "      <th>962</th>\n",
       "      <td>12557933</td>\n",
       "      <td>Bill</td>\n",
       "      <td>Jacobs</td>\n",
       "      <td>phillipwalker@hotmail.com</td>\n",
       "      <td>1928-03-11</td>\n",
       "      <td>603-38-4302</td>\n",
       "      <td>Maculino</td>\n",
       "      <td>77-44</td>\n",
       "      <td>38</td>\n",
       "      <td>4</td>\n",
       "      <td>17</td>\n",
       "      <td>Sur Este</td>\n",
       "      <td>90.78785</td>\n",
       "      <td>91.45780</td>\n",
       "    </tr>\n",
       "    <tr>\n",
       "      <th>963</th>\n",
       "      <td>30215570</td>\n",
       "      <td>Nathaniel</td>\n",
       "      <td>Adams</td>\n",
       "      <td>wallacepeter@hotmail.com</td>\n",
       "      <td>2017-03-24</td>\n",
       "      <td>199-80-2863</td>\n",
       "      <td>Maculino</td>\n",
       "      <td>85-62</td>\n",
       "      <td>9</td>\n",
       "      <td>5</td>\n",
       "      <td>1</td>\n",
       "      <td>Sur Este</td>\n",
       "      <td>90.78785</td>\n",
       "      <td>91.45780</td>\n",
       "    </tr>\n",
       "    <tr>\n",
       "      <th>964</th>\n",
       "      <td>16064836</td>\n",
       "      <td>Thomas</td>\n",
       "      <td>Bradley</td>\n",
       "      <td>michelle23@yahoo.com</td>\n",
       "      <td>1928-01-09</td>\n",
       "      <td>223-75-9819</td>\n",
       "      <td>Maculino</td>\n",
       "      <td>88-83</td>\n",
       "      <td>35</td>\n",
       "      <td>39</td>\n",
       "      <td>19</td>\n",
       "      <td>Sur Este</td>\n",
       "      <td>90.78785</td>\n",
       "      <td>91.45780</td>\n",
       "    </tr>\n",
       "    <tr>\n",
       "      <th>965</th>\n",
       "      <td>60026530</td>\n",
       "      <td>Donald</td>\n",
       "      <td>Salas</td>\n",
       "      <td>james56@hotmail.com</td>\n",
       "      <td>1950-11-30</td>\n",
       "      <td>668-69-5249</td>\n",
       "      <td>Maculino</td>\n",
       "      <td>61-10</td>\n",
       "      <td>42</td>\n",
       "      <td>31</td>\n",
       "      <td>4</td>\n",
       "      <td>Sur Este</td>\n",
       "      <td>90.78785</td>\n",
       "      <td>91.45780</td>\n",
       "    </tr>\n",
       "  </tbody>\n",
       "</table>\n",
       "<p>966 rows × 14 columns</p>\n",
       "</div>"
      ],
      "text/plain": [
       "     id_cliente nombre_cliente apellido                      correo  \\\n",
       "0      84301266        Jasmine    Mills       karinasharp@yahoo.com   \n",
       "1      10326661           Tina    Wiley  rebeccawatkins@hotmail.com   \n",
       "2      29900694       Samantha   Fowler        justin85@hotmail.com   \n",
       "3      82241218            Ann     Mora     michelleday@hotmail.com   \n",
       "4      39159197            Dr.   Meghan     smithsamuel@hotmail.com   \n",
       "..          ...            ...      ...                         ...   \n",
       "961    89322645        Michael    Lopez           xmedina@gmail.com   \n",
       "962    12557933           Bill   Jacobs   phillipwalker@hotmail.com   \n",
       "963    30215570      Nathaniel    Adams    wallacepeter@hotmail.com   \n",
       "964    16064836         Thomas  Bradley        michelle23@yahoo.com   \n",
       "965    60026530         Donald    Salas         james56@hotmail.com   \n",
       "\n",
       "    fecha_nacimiento     telefono    genero no_casa avenida calle  zona  \\\n",
       "0         1926-11-24  137-65-2220  Femenino   15-16      18    46    18   \n",
       "1         1999-01-25  013-38-0790  Femenino   43-43      15    14     9   \n",
       "2         1943-03-15  030-78-9033  Femenino   24-88       1    39     2   \n",
       "3         1993-12-22  066-27-4596  Femenino    3-78      28    34     7   \n",
       "4         1945-03-10  886-68-1329  Femenino   33-80      36    46     9   \n",
       "..               ...          ...       ...     ...     ...   ...   ...   \n",
       "961       2008-01-29  889-68-9151  Maculino    8-49      17    23     7   \n",
       "962       1928-03-11  603-38-4302  Maculino   77-44      38     4    17   \n",
       "963       2017-03-24  199-80-2863  Maculino   85-62       9     5     1   \n",
       "964       1928-01-09  223-75-9819  Maculino   88-83      35    39    19   \n",
       "965       1950-11-30  668-69-5249  Maculino   61-10      42    31     4   \n",
       "\n",
       "    nombre_sector   latitud  longitud  \n",
       "0    Centro Norte  90.59875  91.59897  \n",
       "1    Centro Norte  90.59875  91.59897  \n",
       "2    Centro Norte  90.59875  91.59897  \n",
       "3    Centro Norte  90.59875  91.59897  \n",
       "4    Centro Norte  90.59875  91.59897  \n",
       "..            ...       ...       ...  \n",
       "961      Sur Este  90.78785  91.45780  \n",
       "962      Sur Este  90.78785  91.45780  \n",
       "963      Sur Este  90.78785  91.45780  \n",
       "964      Sur Este  90.78785  91.45780  \n",
       "965      Sur Este  90.78785  91.45780  \n",
       "\n",
       "[966 rows x 14 columns]"
      ]
     },
     "execution_count": 45,
     "metadata": {},
     "output_type": "execute_result"
    }
   ],
   "source": [
    "dimClientes = df_clientes.merge(df_generos, on='id_genero').merge(df_direcciones, on='id_direccion').merge(df_sectores, on='id_sector', suffixes=('_cliente', '_sector'))\n",
    "dimClientes = dimClientes.drop(columns=['id_genero', 'id_sector', 'id_direccion' ])\n",
    "dimClientes"
   ]
  }
 ],
 "metadata": {
  "kernelspec": {
   "display_name": "base",
   "language": "python",
   "name": "python3"
  },
  "language_info": {
   "codemirror_mode": {
    "name": "ipython",
    "version": 3
   },
   "file_extension": ".py",
   "mimetype": "text/x-python",
   "name": "python",
   "nbconvert_exporter": "python",
   "pygments_lexer": "ipython3",
   "version": "3.9.16"
  },
  "orig_nbformat": 4,
  "vscode": {
   "interpreter": {
    "hash": "48168050f1fe731b302b63a744aad32afdf0a66ee6e49905924ec3fd4edeb196"
   }
  }
 },
 "nbformat": 4,
 "nbformat_minor": 2
}
