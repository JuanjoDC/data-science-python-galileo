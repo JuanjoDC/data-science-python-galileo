{
 "cells": [
  {
   "attachments": {},
   "cell_type": "markdown",
   "metadata": {},
   "source": [
    "# Hoja de Trabajo # 1 - Jupyter Notebooks, Markdown y Git\n",
    "---"
   ]
  },
  {
   "attachments": {},
   "cell_type": "markdown",
   "metadata": {},
   "source": [
    "Referencias:\n",
    "1. [Markdown CheetSheet](https://github.com/adam-p/markdown-here/wiki/Markdown-Cheatsheet)\n",
    "2. [Video Clase MIT - Version Control in Git](https://missing.csail.mit.edu/2020/version-control/)\n",
    "---\n"
   ]
  },
  {
   "cell_type": "markdown",
   "metadata": {},
   "source": [
    "## Git"
   ]
  },
  {
   "attachments": {},
   "cell_type": "markdown",
   "metadata": {},
   "source": [
    "Git es un sistema de control de gestiones con un modelo de \"tree\" que permite crear flujos de trabajo con varios desarrolladores elaborando cambios a un mismo código. Cada cambio realizado se va guardando en un \"branch\", el cual es un subrepostorio del principal utilziado para evitar cuellos de botella con otros desarrolladores al momento de editar el código. Una vez todos los cambios estén listos, estas ramas se pueden fusionar con el repositorio principal.  \n",
    "Por otro lado, este modelo permite almacenar versiones antiguas, por lo que el repositorio principal puede ser intercambiado entre las versiones registradas. "
   ]
  },
  {
   "attachments": {},
   "cell_type": "markdown",
   "metadata": {},
   "source": [
    "Git lee la información en forma de snapshots que, a comparación de otros VCS, este guarda una referencia por cada commit que se realiza con el fin de compararlo con el repositorio para evitar la duplicación de información.     \n",
    "![alt text](https://git-scm.com/book/en/v2/images/deltas.png \"otros VCS\")  \n",
    "  \n",
    "  \n",
    "![alt text](https://git-scm.com/book/en/v2/images/snapshots.png \"Git\")"
   ]
  },
  {
   "attachments": {},
   "cell_type": "markdown",
   "metadata": {},
   "source": [
    "### Conceptos\n",
    "#### Ramas\n",
    "Son cambios del repositorio principal en distintas computadoras, los cuales se recoplian en función de una misma confirmación. Ayudan a administrar cambios en paralelo con todos los desarrolladores. Cuando los cambios estén listos, la rama se vuelve a reincorporar en la rama princial.   \n",
    "![alt text](https://learn.microsoft.com/es-es/devops/_img/branching_line.png  \"ejemplo rama\")  \n",
    "\n",
    "#### Archivos y modificaciones\n",
    "Los archivos en Git están clasificados en la siguiente forma: modificadcos, almacenados provisionalmente o confrimados. Cuando un archivo es modificado, este se guarda provisionalmente en la carpeta de confirmación. Una vez terminado todas las modificaciones (almacenado provisionalmente), los archivos se empaquetan como una _confirmación_ con un mensaje que describe los cambios.   \n",
    "![alt text](https://git-scm.com/book/en/v2/images/areas.png \"estados de los archivos\")"
   ]
  },
  {
   "attachments": {},
   "cell_type": "markdown",
   "metadata": {},
   "source": [
    "### Comandos Git\n",
    "#### Basics\n",
    "```Python\n",
    "git help <command>: get help for a git command\n",
    "\n",
    "git init: creates a new git repo, with data stored in the .git directory\n",
    "\n",
    "git status: tells you what’s going on\n",
    "\n",
    "git add <filename>: adds files to staging area\n",
    "\n",
    "git commit: creates a new commit\n",
    "    Write good commit messages!\n",
    "    Even more reasons to write good commit messages!\n",
    "git log: shows a flattened log of history\n",
    "\n",
    "git log --all --graph --decorate: visualizes history as a DAG\n",
    "\n",
    "git diff <filename>: show changes you made relative to the staging area\n",
    "\n",
    "git diff <revision> <filename>: shows differences in a file between snapshots\n",
    "\n",
    "git checkout <revision>: updates HEAD and current branch\n",
    "```\n",
    "#### Branchingand merging\n",
    "```Python\n",
    "git branch: shows branches\n",
    "\n",
    "git branch <name>: creates a branch\n",
    "\n",
    "git checkout -b <name>: creates a branch and switches to it\n",
    "same as git branch <name>; git checkout <name>\n",
    "\n",
    "git merge <revision>: merges into current branch\n",
    "\n",
    "git mergetool: use a fancy tool to help resolve merge conflicts\n",
    "\n",
    "git rebase: rebase set of patches onto a new base\n",
    "```\n",
    "\n",
    "#### Remotes\n",
    "```Python\n",
    "git remote: list remotes\n",
    "\n",
    "git remote add <name> <url>: add a remote\n",
    "\n",
    "git push <remote> <local branch>:<remote branch>: send objects to remote, and update remote reference\n",
    "\n",
    "git branch --set-upstream-to=<remote>/<remote branch>: set up correspondence between local and remote branch\n",
    "\n",
    "git fetch: retrieve objects/references from a remote\n",
    "\n",
    "git pull: same as git fetch; git merge\n",
    "\n",
    "git clone: download repository from remote\n",
    "```\n",
    "\n",
    "#### Undo\n",
    "```Python\n",
    "git commit --amend: edit a commit’s contents/message\n",
    "\n",
    "git reset HEAD <file>: unstage a file\n",
    "\n",
    "git checkout -- <file>: discard changes\n",
    "```\n",
    "\n",
    "#### Advanced Git\n",
    "```Python\n",
    "git config: Git is highly customizable\n",
    "\n",
    "git clone --depth=1: shallow clone, without entire version history\n",
    "\n",
    "git add -p: interactive staging\n",
    "\n",
    "git rebase -i: interactive rebasing\n",
    "\n",
    "git blame: show who last edited which line\n",
    "\n",
    "git stash: temporarily remove modifications to working directory\n",
    "\n",
    "git bisect: binary search history (e.g. for regressions)\n",
    "\n",
    ".gitignore: specify intentionally untracked files to ignore\n",
    "````"
   ]
  }
 ],
 "metadata": {
  "kernelspec": {
   "display_name": "base",
   "language": "python",
   "name": "python3"
  },
  "language_info": {
   "codemirror_mode": {
    "name": "ipython",
    "version": 3
   },
   "file_extension": ".py",
   "mimetype": "text/x-python",
   "name": "python",
   "nbconvert_exporter": "python",
   "pygments_lexer": "ipython3",
   "version": "3.9.7"
  },
  "orig_nbformat": 4,
  "vscode": {
   "interpreter": {
    "hash": "3aa497ead4b1422dca7dd87ae19864679c026e4002af7befe7ed729d3c62c06a"
   }
  }
 },
 "nbformat": 4,
 "nbformat_minor": 2
}
