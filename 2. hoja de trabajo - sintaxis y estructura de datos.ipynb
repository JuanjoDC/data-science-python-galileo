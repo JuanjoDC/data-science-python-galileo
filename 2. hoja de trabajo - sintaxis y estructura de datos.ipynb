{
 "cells": [
  {
   "attachments": {},
   "cell_type": "markdown",
   "metadata": {},
   "source": [
    "# HOJA DE TRABAJO 2 - SINTAXIS Y ESTRUCTURAS DE DATOS"
   ]
  },
  {
   "attachments": {},
   "cell_type": "markdown",
   "metadata": {},
   "source": [
    "## PARTE 1 - PROGRAMACIÓN Y SINTAXIS"
   ]
  },
  {
   "attachments": {},
   "cell_type": "markdown",
   "metadata": {},
   "source": [
    "1. Haga un programa en Python que reciba de paráametro un número de segundos y que despliegue en pantalla, las horas, minutos y segundos que representan. Por ejemplo:  \n",
    "* Si el número de segundos recibidos fuera: 2743 entonces su programa debería desplegar:  \n",
    "Horas: 0, Minutos: 45 , Segundos: 43  \n",
    "* Si el nu´mero de segundos recibidos fuera 5871: Horas: 1, Minutos: 37 , Segundos: 51\n",
    "R"
   ]
  },
  {
   "cell_type": "code",
   "execution_count": 36,
   "metadata": {},
   "outputs": [
    {
     "name": "stdout",
     "output_type": "stream",
     "text": [
      "Horas: 1, Minutos: 37, Segundos: 51\n"
     ]
    }
   ],
   "source": [
    "def seg_to_hours(secs):\n",
    "    try:\n",
    "        secs = int(secs)\n",
    "        h = secs // 3600 # Devuelve el entero\n",
    "        secs %= 3600  # suma modulo 3600 para dejar los segundos restantes\n",
    "        m = secs // 60\n",
    "        secs %= 60\n",
    "        return print('Horas: {}, Minutos: {}, Segundos: {}'.format(h, m, secs))\n",
    "    except ValueError:\n",
    "        return print('ERROR: Debe ingresar un número y debe ser entero')\n",
    "\n",
    "seg_to_hours(\"5871\")\n",
    "\n",
    "\n",
    "\n"
   ]
  },
  {
   "attachments": {},
   "cell_type": "markdown",
   "metadata": {},
   "source": [
    "2. Haga una función en Python que dado un número entre 1 y 20. Y un carácter cualquiera\n",
    "despliegue cuatro patrones triangulares."
   ]
  },
  {
   "cell_type": "code",
   "execution_count": 86,
   "metadata": {},
   "outputs": [
    {
     "name": "stdout",
     "output_type": "stream",
     "text": [
      "{}       {}{}{}{}{}{}     {}{}{}{}{}{}       {}     \n",
      "{}{}       {}{}{}{}{}     {}{}{}{}{}       {}{}    \n",
      "{}{}{}       {}{}{}{}     {}{}{}{}       {}{}{}   \n",
      "{}{}{}{}       {}{}{}     {}{}{}       {}{}{}{}  \n",
      "{}{}{}{}{}       {}{}     {}{}       {}{}{}{}{} \n",
      "{}{}{}{}{}{}       {}     {}       {}{}{}{}{}{}\n"
     ]
    }
   ],
   "source": [
    "def draw_triangles(num, char=\"><\"):\n",
    "    try: \n",
    "        num = int(num)\n",
    "        char = str(char)\n",
    "\n",
    "        if num < 1 or num > 20:\n",
    "                print(\"El número debe estar entre 1 y 20.\")\n",
    "                return\n",
    "    \n",
    "        for i, j in zip(range(1, num + 1), range(num, 0, -1)):\n",
    "            print(\n",
    "                char * i + \" \" * (num - i) + \"  \" + \" \" * (num - j) + char * j \n",
    "            + \"     \" +  char * j + \" \" * (num - j) \n",
    "            + \"  \" + \" \" * (num - i) + char * i + \" \" * (num - i) \n",
    "            )\n",
    "    \n",
    "    except ValueError:\n",
    "        print('El primer parámetro debe ser un número entero')\n",
    "        \n",
    "\n",
    "\n",
    "draw_triangles(6, '{}')\n"
   ]
  },
  {
   "attachments": {},
   "cell_type": "markdown",
   "metadata": {},
   "source": [
    "3. Haga un programa en Python que la fecha de nacimiento de una persona (puede ingresar por\n",
    "separado cada valor, es decir pedir primero día, luego mes y luego año), despliegue la edad\n",
    "de la persona en años, meses y días. Su resultado puede ser aproximado."
   ]
  },
  {
   "cell_type": "code",
   "execution_count": 95,
   "metadata": {},
   "outputs": [
    {
     "name": "stdout",
     "output_type": "stream",
     "text": [
      "Ingresa tu fecha de nacimiento en formato numérico \n",
      "\n",
      "Fecha Ingresada: 1999-12-05\n",
      "Tu edad es: 23 años, 3 meses y 2 días aproximadamente.\n"
     ]
    }
   ],
   "source": [
    "import datetime as dt\n",
    "\n",
    "def years_calculator():\n",
    "    try:\n",
    "        print(\"Ingresa tu fecha de nacimiento en formato numérico \\n\")\n",
    "        d = int(input('Ingresar día: '))\n",
    "        m = int(input('Ingresar mes: '))\n",
    "        y = int(input('Ingresar año: '))\n",
    "\n",
    "    \n",
    "            \n",
    "\n",
    "\n",
    "        birth = dt.date(y, m, d)\n",
    "        today = dt.date.today()\n",
    "        age = today - birth\n",
    "        days = age.days\n",
    "\n",
    "        y1 = days // 365\n",
    "        days %= 365\n",
    "        m1 = days // 30\n",
    "        days %= 30\n",
    "        d1 = days\n",
    "        print(f'Fecha Ingresada: {birth}')\n",
    "        print(\"Tu edad es: {} años, {} meses y {} días aproximadamente.\".format(y1, m1, d1))\n",
    "    except ValueError:\n",
    "        print('Debes ingresar números enteros y una fecha valida')\n",
    "\n",
    "\n",
    "years_calculator()"
   ]
  },
  {
   "attachments": {},
   "cell_type": "markdown",
   "metadata": {},
   "source": [
    "4. Cree un programa en Python que dada una lista de tuplas, elimine las tuplas que están vacías.\n",
    "Tomar nota del siguiente ejemplo:\n",
    "Si la lista fuera: [(), (), (’X’,), (’a’, ’b’), (’a’, ’b’, ’c’), (’d’)]\n",
    "El resultado deber´ıa ser: [(’X’), (’a’, ’b’), (’a’, ’b’, ’c’), ’d’]"
   ]
  },
  {
   "cell_type": "code",
   "execution_count": 97,
   "metadata": {},
   "outputs": [
    {
     "data": {
      "text/plain": [
       "[('X',), ('a', 'b'), ('a', 'b', 'c'), 'd']"
      ]
     },
     "execution_count": 97,
     "metadata": {},
     "output_type": "execute_result"
    }
   ],
   "source": [
    "def clean_list(List):\n",
    "    return [tup for tup in List if len(tup) > 0]\n",
    "\n",
    "clean_list([(), (), ('X',), ('a', 'b'), ('a', 'b', 'c'), ('d')])"
   ]
  },
  {
   "attachments": {},
   "cell_type": "markdown",
   "metadata": {},
   "source": [
    "7. Escribir un programa que gestione las facturas pendientes de cobro de una empresa. Las\n",
    "facturas se almacenar´an en un diccionario donde la llave de cada factura ser´a el nu´mero de\n",
    "factura (debe utilizar un numero de 4 dígitos) y el valor el coste de la factura. El programa\n",
    "debe preguntar al usuario si quiere an˜adir una nueva factura, pagar una existente o terminar.\n",
    "Si desea an˜adir una nueva factura se preguntará por el número de factura y su coste y se\n",
    "an˜adir´a al diccionario, para confirmar que la factura se ingreso correctamente el programa\n",
    "debe desplegar el diccionario completo. Si se desea pagar una factura se preguntará por el\n",
    "nu´mero de factura y se eliminará del diccionario. Después de cada operación el programa\n",
    "debe mostrar en pantalla la cantidad cobrada hasta el momento y la cantidad pendiente de\n",
    "cobro. Puede utilizar otras estructuras de datos como apoyo si lo considera necesario."
   ]
  },
  {
   "cell_type": "code",
   "execution_count": 114,
   "metadata": {},
   "outputs": [
    {
     "name": "stdout",
     "output_type": "stream",
     "text": [
      "Factura añadida correctamente:\n",
      "{'0001': 1.0}\n",
      "\n",
      "Cantidad cobrada hasta el momento: 0\n",
      "Cantidad pendiente de cobro: 1.0\n",
      "\n",
      "Factura añadida correctamente:\n",
      "{'0001': 1.0, '0002': 2.0}\n",
      "\n",
      "Cantidad cobrada hasta el momento: 0\n",
      "Cantidad pendiente de cobro: 3.0\n",
      "\n",
      "Factura añadida correctamente:\n",
      "{'0001': 1.0, '0002': 2.0, '0003': 3.0}\n",
      "\n",
      "Cantidad cobrada hasta el momento: 0\n",
      "Cantidad pendiente de cobro: 6.0\n",
      "\n",
      "Se ha pagado la factura 0001 por un coste de 1.0\n",
      "\n",
      "Cantidad cobrada hasta el momento: 1.0\n",
      "Cantidad pendiente de cobro: 5.0\n",
      "\n",
      "Programa terminado.\n"
     ]
    }
   ],
   "source": [
    "facturas = {}\n",
    "pagos = []\n",
    "\n",
    "while True:\n",
    "    # Preguntar al usuario qué acción desea realizar\n",
    "    accion = input(\"¿Qué desea hacer? (a: añadir factura, p: pagar factura, t: terminar) \")\n",
    "    \n",
    "    if accion == 'a':\n",
    "        # Añadir una nueva factura\n",
    "        if len(facturas.keys()) == 0:\n",
    "            num_factura = str(1).zfill(4)\n",
    "        else:\n",
    "            num_factura = str(int(list(facturas.keys())[-1]) + 1).zfill(4)\n",
    "\n",
    "        \n",
    "        coste_factura = float(input(\"Introduce el coste de la factura: \"))\n",
    "        facturas[num_factura] = coste_factura\n",
    "        print(\"Factura añadida correctamente:\")\n",
    "        print(facturas)\n",
    "        print()\n",
    "        \n",
    "    elif accion == 'p':\n",
    "        # Pagar una factura\n",
    "        num_factura = input(\"Introduce el número de factura que desea pagar: \")\n",
    "        if num_factura in facturas:\n",
    "            coste_factura = facturas.pop(num_factura)\n",
    "            pagos.append(coste_factura)\n",
    "            print(f\"Se ha pagado la factura {num_factura} por un coste de {coste_factura}\")\n",
    "            print()\n",
    "        else:\n",
    "            print(\"La factura introducida no existe.\")\n",
    "            print()\n",
    "            \n",
    "    elif accion == 't':\n",
    "        # Terminar el programa\n",
    "        print(\"Programa terminado.\")\n",
    "        break\n",
    "        \n",
    "    else:\n",
    "        # Opción no válida\n",
    "        print(\"Opción no válida. Inténtalo de nuevo.\")\n",
    "        \n",
    "    # Calcular la cantidad cobrada y la cantidad pendiente de cobro\n",
    "    cantidad_cobrada = sum(pagos)\n",
    "    cantidad_pendiente = round(sum(facturas.values()), 2)  # Redondear a 2 decimales\n",
    "    print(f\"Cantidad cobrada hasta el momento: {cantidad_cobrada}\")\n",
    "    print(f\"Cantidad pendiente de cobro: {cantidad_pendiente}\")\n",
    "    print()\n"
   ]
  },
  {
   "attachments": {},
   "cell_type": "markdown",
   "metadata": {},
   "source": [
    "8. Haga una funci´on en Python, que cree un set con todas las cartas de una baraja de Pocker utilizando el siguiente formato: Tipo-Numero. Utilice las letras T para tr´eboles, C para\n",
    "corazones, P para picas y E para espadas. Para los nu´meros utilice la numeraci´on del 1 al 13. Por ejemplo E13 - ser´ıa Rey de Espadas, P01 ser´ıa As de Picas, T05 ser´ıa cinco de Tr´eboles.\n",
    "Posteriormente cree una funci´on que dado el conjunto anterior cree dos sets nuevos de cartas,\n",
    "cada conjunto debe tener una cantidad variable de elementos, puede utilizar nu´meros aleatorios enteros para definir la longitud de los conjuntos.\n",
    "Adicionalmente, deber´a calcular la probabilidad de la intersecci´on de ambos conjuntos y demuestre si son eventos independientes con la regla del producto.\n",
    "Para concluir, calcule probabilidad de la uni´on de ambos conjuntos y demuestre que se cumple\n",
    "la regla de la adici´on."
   ]
  }
 ],
 "metadata": {
  "kernelspec": {
   "display_name": "base",
   "language": "python",
   "name": "python3"
  },
  "language_info": {
   "codemirror_mode": {
    "name": "ipython",
    "version": 3
   },
   "file_extension": ".py",
   "mimetype": "text/x-python",
   "name": "python",
   "nbconvert_exporter": "python",
   "pygments_lexer": "ipython3",
   "version": "3.9.7"
  },
  "orig_nbformat": 4,
  "vscode": {
   "interpreter": {
    "hash": "3aa497ead4b1422dca7dd87ae19864679c026e4002af7befe7ed729d3c62c06a"
   }
  }
 },
 "nbformat": 4,
 "nbformat_minor": 2
}
